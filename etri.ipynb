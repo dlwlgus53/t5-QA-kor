{
 "cells": [
  {
   "cell_type": "code",
   "execution_count": 5,
   "metadata": {},
   "outputs": [],
   "source": [
    "from transformers import T5Tokenizer, T5ForConditionalGeneration,Adafactor\n",
    "tokenizer =  T5Tokenizer.from_pretrained('model_etri')\n",
    "model = T5ForConditionalGeneration.from_pretrained('model_etri', return_dict=True).to('cuda')"
   ]
  },
  {
   "cell_type": "code",
   "execution_count": 19,
   "metadata": {},
   "outputs": [
    {
     "name": "stdout",
     "output_type": "stream",
     "text": [
      "tensor([[11491,     1]])\n",
      "<pad> <extra_id_0> bokmålPolskiPortuguêsRomân\n"
     ]
    }
   ],
   "source": [
    "index = tokenizer.encode('안녕하세요',padding=False,  return_tensors='pt') # TODO : special token\n",
    "print(index)\n",
    "outputs_text = model.generate(input_ids=index.to('cuda'))\n",
    "print(tokenizer.decode(outputs_text[0]))"
   ]
  }
 ],
 "metadata": {
  "interpreter": {
   "hash": "8fa9fe2fcb23b54c7a5cc7496447dabe292a57de3a716dccb4d4977cd8abab0a"
  },
  "kernelspec": {
   "display_name": "Python 3.9.0 64-bit ('t5_new': conda)",
   "language": "python",
   "name": "python3"
  },
  "language_info": {
   "codemirror_mode": {
    "name": "ipython",
    "version": 3
   },
   "file_extension": ".py",
   "mimetype": "text/x-python",
   "name": "python",
   "nbconvert_exporter": "python",
   "pygments_lexer": "ipython3",
   "version": "3.9.0"
  },
  "orig_nbformat": 4
 },
 "nbformat": 4,
 "nbformat_minor": 2
}
